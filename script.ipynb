{
 "cells": [
  {
   "cell_type": "code",
   "execution_count": 1,
   "metadata": {},
   "outputs": [
    {
     "name": "stdout",
     "output_type": "stream",
     "text": [
      "Requirement already satisfied: PyMuPDF in c:\\users\\anike\\appdata\\local\\programs\\python\\python312\\lib\\site-packages (1.24.9)\n",
      "Requirement already satisfied: PyMuPDFb==1.24.9 in c:\\users\\anike\\appdata\\local\\programs\\python\\python312\\lib\\site-packages (from PyMuPDF) (1.24.9)\n",
      "Note: you may need to restart the kernel to use updated packages.\n"
     ]
    }
   ],
   "source": [
    "pip install PyMuPDF"
   ]
  },
  {
   "cell_type": "code",
   "execution_count": 2,
   "metadata": {},
   "outputs": [],
   "source": [
    "import re\n",
    "import fitz\n",
    "import pandas as pd"
   ]
  },
  {
   "cell_type": "code",
   "execution_count": 15,
   "metadata": {},
   "outputs": [],
   "source": [
    "# Sample invoice PDFs\n",
    "\n",
    "pdf_path = \"data/invoice_Aaron Bergman_36258.pdf\"\n",
    "#pdf_path = \"data/invoice_Allen Rosenblatt_33571.pdf\"\n",
    "#pdf_path = \"data/invoice_Anthony Johnson_35334.pdf\"\n",
    "#pdf_path = \"data/invoice_Ben Peterman_17220.pdf\"\n",
    "#pdf_path = \"data/invoice_Chris Selesnick_15521.pdf\"\n",
    "#pdf_path = \"data/invoice_Deanra Eno_46162.pdf\""
   ]
  },
  {
   "cell_type": "markdown",
   "metadata": {},
   "source": [
    "### For terminal output"
   ]
  },
  {
   "cell_type": "code",
   "execution_count": 16,
   "metadata": {},
   "outputs": [
    {
     "name": "stdout",
     "output_type": "stream",
     "text": [
      "Order ID: hu-2012-er385557-40918\n",
      "Customer Name: elpida rittenbach\n",
      "Address: budapest, budapest, hungary\n",
      "Purchase Date: jan 10 2012\n",
      "Product Name: ikea library with doors, traditional\n",
      "Quantity: 1\n",
      "Total Amount: Not found\n"
     ]
    }
   ],
   "source": [
    "# Function to extract text from PDF\n",
    "def extract_text_from_pdf(pdf_path):\n",
    "    pdf_document = fitz.open(pdf_path)\n",
    "    text_by_page = []\n",
    "    for page_num in range(pdf_document.page_count):\n",
    "        page = pdf_document.load_page(page_num)\n",
    "        text = page.get_text(\"text\").lower()\n",
    "        text_by_page.append(text)\n",
    "    return \"\\n\".join(text_by_page)\n",
    "\n",
    "# Function to extract data from PDF\n",
    "def extract_invoice_data(pdf_path):\n",
    "    text_combined = extract_text_from_pdf(pdf_path)\n",
    "\n",
    "    # Extract Customer Name\n",
    "    customer_name_pattern = r\"bill to:\\s*(.*?)\\n\"\n",
    "    customer_name_match = re.search(customer_name_pattern, text_combined)\n",
    "    customer_name = customer_name_match.group(1).strip() if customer_name_match else \"Not found\"\n",
    "\n",
    "    # Extract Address\n",
    "    address_pattern = r\"ship to:\\s*([\\w\\s,]+(?:\\n[\\w\\s,]+)*)(?=\\n\\w+ \\d{1,2} \\d{4})\"\n",
    "    address_match = re.search(address_pattern, text_combined)\n",
    "    address = \" \".join(address_match.group(1).split()).strip() if address_match else \"Not found\"\n",
    "\n",
    "    # Extract Date\n",
    "    date_pattern = r\"ship to:\\s*[\\w\\s,]+(?:\\n[\\w\\s,]+)*\\n(\\w+ \\d{1,2} \\d{4})\"\n",
    "    date_match = re.search(date_pattern, text_combined)\n",
    "    date = date_match.group(1).strip() if date_match else \"Not found\"\n",
    "\n",
    "    # Extract Total Amount\n",
    "    total_pattern = r\"(?:\\b\\w+\\s+class\\b)\\s*\\n\\$(\\d[\\d,.]*)\"\n",
    "    total_match = re.search(total_pattern, text_combined)\n",
    "    total_amount = f\"${total_match.group(1).strip()}\" if total_match else \"Not found\"\n",
    "\n",
    "    # Extract Order ID\n",
    "    order_id_pattern = r\"order id\\s*[:\\-]?\\s*([a-zA-Z0-9\\-]+)\"\n",
    "    order_id_match = re.search(order_id_pattern, text_combined)\n",
    "    order_id = order_id_match.group(1).strip() if order_id_match else \"Not found\"\n",
    "\n",
    "    # Extract Product Name\n",
    "    product_name_pattern = r\"amount\\s*([\\w\\s,'\\-]+)\\n\\d\"\n",
    "    product_name_match = re.search(product_name_pattern, text_combined)\n",
    "    product_name = product_name_match.group(1).strip() if product_name_match else \"Not found\"\n",
    "\n",
    "    # Extract Quantity\n",
    "    quantity_pattern = r\"amount\\s*[\\w\\s,'\\-]+\\n(\\d+)\"\n",
    "    quantity_match = re.search(quantity_pattern, text_combined)\n",
    "    quantity = quantity_match.group(1).strip() if quantity_match else \"Not found\"\n",
    "\n",
    "    return {\n",
    "        \"order_id\": order_id,\n",
    "        \"customer_name\": customer_name,\n",
    "        \"address\": address,\n",
    "        \"date\": date,\n",
    "        \"total_amount\": total_amount,\n",
    "        \"product_name\": product_name,\n",
    "        \"quantity\": quantity\n",
    "    }\n",
    "\n",
    "invoice_data = extract_invoice_data(pdf_path)\n",
    "\n",
    "# Print extracted data\n",
    "print(\"Order ID:\", invoice_data[\"order_id\"])\n",
    "print(\"Customer Name:\", invoice_data[\"customer_name\"])\n",
    "print(\"Address:\", invoice_data[\"address\"])\n",
    "print(\"Purchase Date:\", invoice_data[\"date\"])\n",
    "print(\"Product Name:\", invoice_data[\"product_name\"])\n",
    "print(\"Quantity:\", invoice_data[\"quantity\"])\n",
    "print(\"Total Amount:\", invoice_data[\"total_amount\"])"
   ]
  },
  {
   "cell_type": "markdown",
   "metadata": {},
   "source": [
    "### For Excel file output"
   ]
  },
  {
   "cell_type": "code",
   "execution_count": 14,
   "metadata": {},
   "outputs": [
    {
     "name": "stdout",
     "output_type": "stream",
     "text": [
      "Data successfully written to invoice_data.xlsx\n"
     ]
    }
   ],
   "source": [
    "# Function to extract text from PDF\n",
    "def extract_text_from_pdf(pdf_path):\n",
    "    pdf_document = fitz.open(pdf_path)\n",
    "    text_by_page = []\n",
    "    for page_num in range(pdf_document.page_count):\n",
    "        page = pdf_document.load_page(page_num)\n",
    "        text = page.get_text(\"text\").lower()\n",
    "        text_by_page.append(text)\n",
    "    return \"\\n\".join(text_by_page)\n",
    "\n",
    "# Function to extract data from PDF\n",
    "def extract_invoice_data(pdf_path):\n",
    "    text_combined = extract_text_from_pdf(pdf_path)\n",
    "\n",
    "    # Extract Customer Name\n",
    "    customer_name_pattern = r\"bill to:\\s*(.*?)\\n\"\n",
    "    customer_name_match = re.search(customer_name_pattern, text_combined)\n",
    "    customer_name = customer_name_match.group(1).strip() if customer_name_match else \"Not found\"\n",
    "\n",
    "    # Extract Address\n",
    "    address_pattern = r\"ship to:\\s*([\\w\\s,]+(?:\\n[\\w\\s,]+)*)(?=\\n\\w+ \\d{1,2} \\d{4})\"\n",
    "    address_match = re.search(address_pattern, text_combined)\n",
    "    address = \" \".join(address_match.group(1).split()).strip() if address_match else \"Not found\"\n",
    "\n",
    "    # Extract Date\n",
    "    date_pattern = r\"ship to:\\s*[\\w\\s,]+(?:\\n[\\w\\s,]+)*\\n(\\w+ \\d{1,2} \\d{4})\"\n",
    "    date_match = re.search(date_pattern, text_combined)\n",
    "    date = date_match.group(1).strip() if date_match else \"Not found\"\n",
    "\n",
    "    # Extract Total Amount\n",
    "    total_pattern = r\"(?:\\b\\w+\\s+class\\b)\\s*\\n\\$(\\d[\\d,.]*)\"\n",
    "    total_match = re.search(total_pattern, text_combined)\n",
    "    total_amount = f\"${total_match.group(1).strip()}\" if total_match else \"Not found\"\n",
    "\n",
    "    # Extract Order ID\n",
    "    order_id_pattern = r\"order id\\s*[:\\-]?\\s*([a-zA-Z0-9\\-]+)\"\n",
    "    order_id_match = re.search(order_id_pattern, text_combined)\n",
    "    order_id = order_id_match.group(1).strip() if order_id_match else \"Not found\"\n",
    "\n",
    "    # Extract Product Name\n",
    "    product_name_pattern = r\"amount\\s*([\\w\\s,'\\-]+)\\n\\d\"\n",
    "    product_name_match = re.search(product_name_pattern, text_combined)\n",
    "    product_name = product_name_match.group(1).strip() if product_name_match else \"Not found\"\n",
    "\n",
    "    # Extract Quantity\n",
    "    quantity_pattern = r\"amount\\s*[\\w\\s,'\\-]+\\n(\\d+)\"\n",
    "    quantity_match = re.search(quantity_pattern, text_combined)\n",
    "    quantity = quantity_match.group(1).strip() if quantity_match else \"Not found\"\n",
    "\n",
    "    return {\n",
    "        \"Order ID\": order_id,\n",
    "        \"Customer Name\": customer_name,\n",
    "        \"Address\": address,\n",
    "        \"Purchase Date\": date,\n",
    "        \"Product Name\": product_name,\n",
    "        \"Quantity\": quantity,\n",
    "        \"Total Amount\": total_amount\n",
    "    }\n",
    "\n",
    "# Save extracted data to an Excel file\n",
    "def save_to_excel(data, file_name):\n",
    "    df = pd.DataFrame([data])\n",
    "    \n",
    "    # Write to Excel file\n",
    "    df.to_excel(file_name, index=False)\n",
    "    print(f\"Data successfully written to {file_name}\")\n",
    "\n",
    "invoice_data = extract_invoice_data(pdf_path)\n",
    "\n",
    "# Save data to Excel file\n",
    "excel_file_name = \"invoice_data.xlsx\"\n",
    "save_to_excel(invoice_data, excel_file_name)"
   ]
  }
 ],
 "metadata": {
  "kernelspec": {
   "display_name": "Python 3",
   "language": "python",
   "name": "python3"
  },
  "language_info": {
   "codemirror_mode": {
    "name": "ipython",
    "version": 3
   },
   "file_extension": ".py",
   "mimetype": "text/x-python",
   "name": "python",
   "nbconvert_exporter": "python",
   "pygments_lexer": "ipython3",
   "version": "3.12.6"
  }
 },
 "nbformat": 4,
 "nbformat_minor": 2
}
